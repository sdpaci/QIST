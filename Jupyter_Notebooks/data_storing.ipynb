{
 "cells": [
  {
   "cell_type": "code",
   "execution_count": 6,
   "metadata": {},
   "outputs": [
    {
     "name": "stdout",
     "output_type": "stream",
     "text": [
      "         275\n",
      "\n",
      "         275\n",
      "\n"
     ]
    },
    {
     "ename": "NameError",
     "evalue": "name 'd' is not defined",
     "output_type": "error",
     "traceback": [
      "\u001b[1;31m---------------------------------------------------------------------------\u001b[0m",
      "\u001b[1;31mNameError\u001b[0m                                 Traceback (most recent call last)",
      "\u001b[1;32m<ipython-input-6-5fd7715b7efd>\u001b[0m in \u001b[0;36m<module>\u001b[1;34m()\u001b[0m\n\u001b[0;32m     53\u001b[0m     \u001b[0md\u001b[0m \u001b[1;33m=\u001b[0m \u001b[0msqrt\u001b[0m\u001b[1;33m(\u001b[0m\u001b[0mpow\u001b[0m\u001b[1;33m(\u001b[0m\u001b[0mx2\u001b[0m\u001b[1;33m-\u001b[0m\u001b[0mx1\u001b[0m\u001b[1;33m,\u001b[0m \u001b[1;36m2\u001b[0m\u001b[1;33m)\u001b[0m \u001b[1;33m+\u001b[0m \u001b[0mpow\u001b[0m\u001b[1;33m(\u001b[0m\u001b[0my2\u001b[0m\u001b[1;33m-\u001b[0m\u001b[0my1\u001b[0m\u001b[1;33m,\u001b[0m \u001b[1;36m2\u001b[0m\u001b[1;33m)\u001b[0m \u001b[1;33m+\u001b[0m \u001b[0mpow\u001b[0m\u001b[1;33m(\u001b[0m\u001b[0mz2\u001b[0m\u001b[1;33m-\u001b[0m\u001b[0mz1\u001b[0m\u001b[1;33m,\u001b[0m \u001b[1;36m2\u001b[0m\u001b[1;33m)\u001b[0m\u001b[1;33m)\u001b[0m\u001b[1;33m;\u001b[0m\u001b[1;33m\u001b[0m\u001b[0m\n\u001b[0;32m     54\u001b[0m     \u001b[1;32mreturn\u001b[0m \u001b[0md\u001b[0m\u001b[1;33m;\u001b[0m\u001b[1;33m\u001b[0m\u001b[0m\n\u001b[1;32m---> 55\u001b[1;33m \u001b[0mprint\u001b[0m\u001b[1;33m(\u001b[0m\u001b[0md\u001b[0m\u001b[1;33m)\u001b[0m\u001b[1;33m\u001b[0m\u001b[0m\n\u001b[0m",
      "\u001b[1;31mNameError\u001b[0m: name 'd' is not defined"
     ]
    }
   ],
   "source": [
    "import numpy as np\n",
    "\n",
    "#count num of time steps\n",
    "\n",
    "#data_file = 'C:\\PHY487\\pbtio3x10.xyz';\n",
    "#num_lines = sum(1 for line in open(data_file))\n",
    "#num_at = open(data_file).readline()\n",
    "#num_steps = num_lines / (num_at + 2)\n",
    "\n",
    "#for i in range(num_steps):\n",
    "#    data_step = np.loadtxt('C:\\PHY487\\pbtio3x10.xyz', dtype = str, delimiter = ' ',skiprows=2 , usecols = (0,1,2,3))\n",
    "    \n",
    "#print('C:\\PHY487\\pbtio3x10.xyz')\n",
    "\n",
    "#a = data_file[:,0]\n",
    "#a = [map(str, data_file[:,0])]\n",
    "#b = [map(float, data_file[:,1])]\n",
    "#c = [map(float, data_file[:,2])]\n",
    "#d = [map(float, data_file[:,3])]\n",
    "\n",
    "#print(type(a), type(b), type(c), type(d))\n",
    "\n",
    "#For particle a and particle b in list 0. Find the corresponding x,y,z vals\n",
    "#in lists 1,2,3 and pass all those values to func. \"distance\"\n",
    "\n",
    "#CHOOSE PARTICLE:\n",
    "#p1 = \"Pb\"; p2 = \"Ti\"\n",
    "data_file = 'C:\\PHY487\\pbtio3x10.xyz';\n",
    "num_lines = open(data_file).readline()\n",
    "print(num_lines)\n",
    "print(num_at)\n",
    "def particles( p1,  p2,  a,  b,  c,  d):\n",
    "    p1index = float(a.index(p1));\n",
    "    p2index = float(a.index(p2));\n",
    "    for p1index in b:\n",
    "        x1 = b[p1index];\n",
    "    for p1index in c:\n",
    "        y1 = c[p1index];\n",
    "    for p1index in d:\n",
    "        z1 = d[p1index];\n",
    "    for p2index in b:\n",
    "        x2 = b[p2index];\n",
    "    for p2index in c:\n",
    "        y2 = c[p2index];\n",
    "    for p2index in d:\n",
    "        z2 = d[p2index];    \n",
    "    return x1, y1, z1, x2, y2, z2\n",
    "\n",
    "\n",
    "#DISTANCE FORMULA: |(1,2,3)-(4,5,6)|=sqrt((4-1)^2 + (5-2)^2 + (6-3)^2)\n",
    "\n",
    "def distance( x1,  y1,  z1,  x2,  y2,  z2):\n",
    "    d = sqrt(pow(x2-x1, 2) + pow(y2-y1, 2) + pow(z2-z1, 2));\n",
    "    return d;\n",
    "print(d)"
   ]
  }
 ],
 "metadata": {
  "kernelspec": {
   "display_name": "Python 3",
   "language": "python",
   "name": "python3"
  },
  "language_info": {
   "codemirror_mode": {
    "name": "ipython",
    "version": 3
   },
   "file_extension": ".py",
   "mimetype": "text/x-python",
   "name": "python",
   "nbconvert_exporter": "python",
   "pygments_lexer": "ipython3",
   "version": "3.6.5"
  }
 },
 "nbformat": 4,
 "nbformat_minor": 2
}
