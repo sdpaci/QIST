{
 "cells": [
  {
   "cell_type": "markdown",
   "id": "d1e9a068",
   "metadata": {},
   "source": [
    "### Multi Line Strings"
   ]
  },
  {
   "cell_type": "code",
   "execution_count": 4,
   "id": "a1e242b4",
   "metadata": {},
   "outputs": [],
   "source": [
    "filenum = 3\n",
    "file1 = (\"/mnt/e/Google_Drive_Backup_E/Data/Magnetometery/OpticalPumping/\"\n",
    "    \"Thorlabs/CIRCPOL/35C/\"\n",
    "        \"Thorlabs/CIRCPOL/35C/CIRC100uW\"+str(filenum)+\".csv\")"
   ]
  },
  {
   "cell_type": "code",
   "execution_count": 5,
   "id": "bbb788d9",
   "metadata": {},
   "outputs": [
    {
     "data": {
      "text/plain": [
       "'/mnt/e/Google_Drive_Backup_E/Data/Magnetometery/OpticalPumping/Thorlabs/CIRCPOL/35C/Thorlabs/CIRCPOL/35C/CIRC100uW3.csv'"
      ]
     },
     "execution_count": 5,
     "metadata": {},
     "output_type": "execute_result"
    }
   ],
   "source": [
    "file1"
   ]
  },
  {
   "cell_type": "code",
   "execution_count": 8,
   "id": "137ee3fc",
   "metadata": {},
   "outputs": [],
   "source": [
    "filenums = [*range(56)]"
   ]
  },
  {
   "cell_type": "code",
   "execution_count": 9,
   "id": "e65a867d",
   "metadata": {
    "collapsed": true,
    "jupyter": {
     "outputs_hidden": true
    }
   },
   "outputs": [
    {
     "data": {
      "text/plain": [
       "[0,\n",
       " 1,\n",
       " 2,\n",
       " 3,\n",
       " 4,\n",
       " 5,\n",
       " 6,\n",
       " 7,\n",
       " 8,\n",
       " 9,\n",
       " 10,\n",
       " 11,\n",
       " 12,\n",
       " 13,\n",
       " 14,\n",
       " 15,\n",
       " 16,\n",
       " 17,\n",
       " 18,\n",
       " 19,\n",
       " 20,\n",
       " 21,\n",
       " 22,\n",
       " 23,\n",
       " 24,\n",
       " 25,\n",
       " 26,\n",
       " 27,\n",
       " 28,\n",
       " 29,\n",
       " 30,\n",
       " 31,\n",
       " 32,\n",
       " 33,\n",
       " 34,\n",
       " 35,\n",
       " 36,\n",
       " 37,\n",
       " 38,\n",
       " 39,\n",
       " 40,\n",
       " 41,\n",
       " 42,\n",
       " 43,\n",
       " 44,\n",
       " 45,\n",
       " 46,\n",
       " 47,\n",
       " 48,\n",
       " 49,\n",
       " 50,\n",
       " 51,\n",
       " 52,\n",
       " 53,\n",
       " 54,\n",
       " 55]"
      ]
     },
     "execution_count": 9,
     "metadata": {},
     "output_type": "execute_result"
    }
   ],
   "source": [
    "filenums"
   ]
  },
  {
   "cell_type": "markdown",
   "id": "dc9ec232",
   "metadata": {},
   "source": [
    "### RENAME FILES"
   ]
  },
  {
   "cell_type": "code",
   "execution_count": 41,
   "id": "29ca43d2",
   "metadata": {
    "collapsed": true,
    "jupyter": {
     "outputs_hidden": true
    }
   },
   "outputs": [
    {
     "name": "stdout",
     "output_type": "stream",
     "text": [
      "CIRC100uW0.csv\n",
      "CIRC100uW1.csv\n",
      "CIRC100uW10.csv\n",
      "CIRC100uW11.csv\n",
      "CIRC100uW12.csv\n",
      "CIRC100uW13.csv\n",
      "CIRC100uW14.csv\n",
      "CIRC100uW15.csv\n",
      "CIRC100uW16.csv\n",
      "CIRC100uW17.csv\n",
      "CIRC100uW18.csv\n",
      "CIRC100uW19.csv\n",
      "CIRC100uW2.csv\n",
      "CIRC100uW20.csv\n",
      "CIRC100uW21.csv\n",
      "CIRC100uW22.csv\n",
      "CIRC100uW23.csv\n",
      "CIRC100uW24.csv\n",
      "CIRC100uW25.csv\n",
      "CIRC100uW26.csv\n",
      "CIRC100uW27.csv\n",
      "CIRC100uW28.csv\n",
      "CIRC100uW29.csv\n",
      "CIRC100uW3.csv\n",
      "CIRC100uW30.csv\n",
      "CIRC100uW31.csv\n",
      "CIRC100uW32.csv\n",
      "CIRC100uW33.csv\n",
      "CIRC100uW34.csv\n",
      "CIRC100uW35.csv\n",
      "CIRC100uW36.csv\n",
      "CIRC100uW37.csv\n",
      "CIRC100uW38.csv\n",
      "CIRC100uW39.csv\n",
      "CIRC100uW4.csv\n",
      "CIRC100uW40.csv\n",
      "CIRC100uW41.csv\n",
      "CIRC100uW42.csv\n",
      "CIRC100uW43.csv\n",
      "CIRC100uW44.csv\n",
      "CIRC100uW45.csv\n",
      "CIRC100uW46.csv\n",
      "CIRC100uW47.csv\n",
      "CIRC100uW48.csv\n",
      "CIRC100uW49.csv\n",
      "CIRC100uW5.csv\n",
      "CIRC100uW50.csv\n",
      "CIRC100uW51.csv\n",
      "CIRC100uW52.csv\n",
      "CIRC100uW53.csv\n",
      "CIRC100uW54.csv\n",
      "CIRC100uW55.csv\n",
      "CIRC100uW6.csv\n",
      "CIRC100uW7.csv\n",
      "CIRC100uW8.csv\n",
      "CIRC100uW9.csv\n"
     ]
    }
   ],
   "source": [
    "# RENAME FILES\n",
    "\n",
    "import os\n",
    "\n",
    "# folderdir = \"/mnt/e/Google_Drive_Backup_E/Data/Magnetometery/OpticalPumping/Thorlabs/LINPOL/60C/60C0dB_dataset_3\"\n",
    "folderdir = \"/mnt/e/Google_Drive_Backup_E/Data/Magnetometery/OpticalPumping/Thorlabs/CIRCPOL/40C\"\n",
    "ext = '.csv'\n",
    "filenames = []\n",
    "for path, dirc, files in os.walk(folderdir):\n",
    "    for name in files:\n",
    "        if name.endswith(ext):\n",
    "            print(name)  # printing file name\n",
    "            filenames.append(name)"
   ]
  },
  {
   "cell_type": "code",
   "execution_count": 43,
   "id": "6a9076ef",
   "metadata": {
    "collapsed": true,
    "jupyter": {
     "outputs_hidden": true
    }
   },
   "outputs": [
    {
     "name": "stdout",
     "output_type": "stream",
     "text": [
      "0\n",
      "1\n",
      "10\n",
      "11\n",
      "12\n",
      "13\n",
      "14\n",
      "15\n",
      "16\n",
      "17\n",
      "18\n",
      "19\n",
      "2\n",
      "20\n",
      "21\n",
      "22\n",
      "23\n",
      "24\n",
      "25\n",
      "26\n",
      "27\n",
      "28\n",
      "29\n",
      "3\n",
      "30\n",
      "31\n",
      "32\n",
      "33\n",
      "34\n",
      "35\n",
      "36\n",
      "37\n",
      "38\n",
      "39\n",
      "4\n",
      "40\n",
      "41\n",
      "42\n",
      "43\n",
      "44\n",
      "45\n",
      "46\n",
      "47\n",
      "48\n",
      "49\n",
      "5\n",
      "50\n",
      "51\n",
      "52\n",
      "53\n",
      "54\n",
      "55\n",
      "6\n",
      "7\n",
      "8\n",
      "9\n"
     ]
    }
   ],
   "source": [
    "\n",
    "for filename in filenames:\n",
    "    print(filename[9:-4]) "
   ]
  },
  {
   "cell_type": "code",
   "execution_count": 45,
   "id": "e01091b1",
   "metadata": {},
   "outputs": [],
   "source": [
    "filenames.sort()"
   ]
  },
  {
   "cell_type": "code",
   "execution_count": 46,
   "id": "2f3d82f7",
   "metadata": {
    "collapsed": true,
    "jupyter": {
     "outputs_hidden": true
    }
   },
   "outputs": [
    {
     "data": {
      "text/plain": [
       "['CIRC100uW0.csv',\n",
       " 'CIRC100uW1.csv',\n",
       " 'CIRC100uW10.csv',\n",
       " 'CIRC100uW11.csv',\n",
       " 'CIRC100uW12.csv',\n",
       " 'CIRC100uW13.csv',\n",
       " 'CIRC100uW14.csv',\n",
       " 'CIRC100uW15.csv',\n",
       " 'CIRC100uW16.csv',\n",
       " 'CIRC100uW17.csv',\n",
       " 'CIRC100uW18.csv',\n",
       " 'CIRC100uW19.csv',\n",
       " 'CIRC100uW2.csv',\n",
       " 'CIRC100uW20.csv',\n",
       " 'CIRC100uW21.csv',\n",
       " 'CIRC100uW22.csv',\n",
       " 'CIRC100uW23.csv',\n",
       " 'CIRC100uW24.csv',\n",
       " 'CIRC100uW25.csv',\n",
       " 'CIRC100uW26.csv',\n",
       " 'CIRC100uW27.csv',\n",
       " 'CIRC100uW28.csv',\n",
       " 'CIRC100uW29.csv',\n",
       " 'CIRC100uW3.csv',\n",
       " 'CIRC100uW30.csv',\n",
       " 'CIRC100uW31.csv',\n",
       " 'CIRC100uW32.csv',\n",
       " 'CIRC100uW33.csv',\n",
       " 'CIRC100uW34.csv',\n",
       " 'CIRC100uW35.csv',\n",
       " 'CIRC100uW36.csv',\n",
       " 'CIRC100uW37.csv',\n",
       " 'CIRC100uW38.csv',\n",
       " 'CIRC100uW39.csv',\n",
       " 'CIRC100uW4.csv',\n",
       " 'CIRC100uW40.csv',\n",
       " 'CIRC100uW41.csv',\n",
       " 'CIRC100uW42.csv',\n",
       " 'CIRC100uW43.csv',\n",
       " 'CIRC100uW44.csv',\n",
       " 'CIRC100uW45.csv',\n",
       " 'CIRC100uW46.csv',\n",
       " 'CIRC100uW47.csv',\n",
       " 'CIRC100uW48.csv',\n",
       " 'CIRC100uW49.csv',\n",
       " 'CIRC100uW5.csv',\n",
       " 'CIRC100uW50.csv',\n",
       " 'CIRC100uW51.csv',\n",
       " 'CIRC100uW52.csv',\n",
       " 'CIRC100uW53.csv',\n",
       " 'CIRC100uW54.csv',\n",
       " 'CIRC100uW55.csv',\n",
       " 'CIRC100uW6.csv',\n",
       " 'CIRC100uW7.csv',\n",
       " 'CIRC100uW8.csv',\n",
       " 'CIRC100uW9.csv']"
      ]
     },
     "execution_count": 46,
     "metadata": {},
     "output_type": "execute_result"
    }
   ],
   "source": [
    "filenames"
   ]
  },
  {
   "cell_type": "markdown",
   "id": "e14cf681",
   "metadata": {},
   "source": [
    "### TXT writing\n"
   ]
  },
  {
   "cell_type": "code",
   "execution_count": 24,
   "id": "1c39eb8e",
   "metadata": {},
   "outputs": [],
   "source": [
    "# Write ToT sums to txt file for plotting cumlative data later\n",
    "# with open('T.txt', 'a') as file1:\n",
    "#     file1.write(str(best_vals))\n",
    "#     for val in best_vals:\n",
    "#         file1.write(\"%d\\n\" % tot)\n",
    "        \n",
    "# file1.close()"
   ]
  },
  {
   "cell_type": "code",
   "execution_count": 25,
   "id": "258f1edd",
   "metadata": {},
   "outputs": [],
   "source": [
    "# ToTs\n",
    "# with open('ToTs.txt') as file1:\n",
    "#     line = file1.readline()\n",
    "#     print(line)\n",
    "#     cnt = 1\n",
    "#     while line:\n",
    "#         print(\"Line {}: {}\".format(cnt, line.strip()))\n",
    "#         line = file1.readline()\n",
    "#         cnt += 1\n",
    "# gridToTs = [329500, 249491700, 3732142, 9670935025, ]\n",
    "# xToTs = [40840525, 3760982450, 23173292750, 53026336800, ]\n",
    "# yToTs = [400, 23468175, 322047050, 825412550, ]\n",
    "# _0thToTs = [5644968775, 18357594650, 60742925625, 111438661100, ]"
   ]
  },
  {
   "cell_type": "markdown",
   "id": "345524b2",
   "metadata": {},
   "source": [
    "### INNER FUNCS"
   ]
  },
  {
   "cell_type": "code",
   "execution_count": 68,
   "id": "e520ec44",
   "metadata": {},
   "outputs": [],
   "source": [
    "def guard_zero(operate):\n",
    "    def inner(x, y):\n",
    "        if y == 0:\n",
    "            print(\"Cannot divide by 0.\")\n",
    "            return\n",
    "        return operate(x, y)\n",
    "    return inner"
   ]
  },
  {
   "cell_type": "code",
   "execution_count": 69,
   "id": "dcdc1e14",
   "metadata": {},
   "outputs": [],
   "source": [
    "@guard_zero\n",
    "def divide(x, y):\n",
    "    return x / y"
   ]
  },
  {
   "cell_type": "code",
   "execution_count": 58,
   "id": "c52a0b5a",
   "metadata": {},
   "outputs": [
    {
     "name": "stdout",
     "output_type": "stream",
     "text": [
      "2.5\n"
     ]
    }
   ],
   "source": [
    "# print(divide(5, 0))\n",
    "print(divide(5, 2))"
   ]
  },
  {
   "cell_type": "markdown",
   "id": "ac65961b",
   "metadata": {},
   "source": [
    "### Tick Frequency Changer "
   ]
  },
  {
   "cell_type": "code",
   "execution_count": null,
   "id": "645c98a8",
   "metadata": {},
   "outputs": [],
   "source": [
    "file = (\"/mnt/e/Google_Drive_Backup_E/Data/Magnetometery/OpticalPumping/\"\n",
    "             \"Thorlabs/CIRCPOL/40C/CIRC100uW\"+str(3)+\".csv\")\n",
    "# file1 = file1.replace(\"\\\\\", \"/\")\n",
    "print(file)\n",
    "print(time.ctime())\n",
    "data = pd.read_csv(file)\n",
    "\n",
    "fig, ax = plt.subplots(figsize = (20,6), facecolor='w')\n",
    "\n",
    "ax.plot(data['Time(s)'], data['CH2(V)'], '-')\n",
    "# tick_spacing = 0.0005\n",
    "# import matplotlib.ticker as ticker\n",
    "# ax.xaxis.set_major_locator(ticker.MultipleLocator(tick_spacing))\n",
    "# ax.set_xlim(1.1*(10**(-6)), (2*(10**(-6))))\n",
    "# ax.set_xlim(0,1.3*(10**(-6)))\n",
    "#ax.set_ylim(40000,60000)\n",
    "ax.grid(True)\n",
    "\n",
    "# plt.savefig(file_path+'results/ch12_peak.png')"
   ]
  },
  {
   "cell_type": "markdown",
   "id": "2151992c",
   "metadata": {},
   "source": [
    "### Toggle Zero One"
   ]
  },
  {
   "cell_type": "code",
   "execution_count": null,
   "id": "8824047a",
   "metadata": {},
   "outputs": [],
   "source": [
    "count = 0\n",
    "for num in range(15):\n",
    "    print(count)\n",
    "    count = (count + 1) % 2\n",
    "    "
   ]
  },
  {
   "cell_type": "markdown",
   "id": "0f2da097",
   "metadata": {},
   "source": [
    "### Detect nan or infintiy in dataframe"
   ]
  },
  {
   "cell_type": "code",
   "execution_count": null,
   "id": "563ed2f9",
   "metadata": {},
   "outputs": [],
   "source": [
    "print('data1: ', np.isinf(data1).values.sum(), data1.isnull().sum().sum(), data1.isnull().values.any())"
   ]
  },
  {
   "cell_type": "markdown",
   "id": "0b8f2c8f",
   "metadata": {},
   "source": [
    "### make a new folder/directory"
   ]
  },
  {
   "cell_type": "code",
   "execution_count": null,
   "id": "28e42bfb",
   "metadata": {},
   "outputs": [],
   "source": [
    "# os.mkdir(\"/mnt/e/Google_Drive_Backup_E/Data/Magnetometery/OpticalPumping/\"\n",
    "#              +BRANDLONG+\"/\"+POL+\"POL/\"+TEMP+\"C/npy_files\")"
   ]
  },
  {
   "cell_type": "markdown",
   "id": "3181a38f",
   "metadata": {},
   "source": [
    "### get files in current working directory top folder only no sub directories"
   ]
  },
  {
   "cell_type": "code",
   "execution_count": null,
   "id": "2131450e",
   "metadata": {},
   "outputs": [],
   "source": [
    "# ext = '.npy'\n",
    "# cwd = os.getcwd()\n",
    "# files = [ f for f in os.listdir( cwd ) if os.path.isfile(f) and f.endswith(ext) ]"
   ]
  },
  {
   "cell_type": "markdown",
   "id": "dab23dfc",
   "metadata": {},
   "source": [
    "### Move files to different disk"
   ]
  },
  {
   "cell_type": "code",
   "execution_count": null,
   "id": "f07ca0f8",
   "metadata": {},
   "outputs": [],
   "source": [
    "# file1 = (\"/mnt/e/Google_Drive_Backup_E/Data/Magnetometery/OpticalPumping/\"\n",
    "#              +BRANDLONG+\"/\"+POL+\"POL/\"+TEMP+\"C/npy_files/\")\n",
    "         \n",
    "# # os.replace(\"path/to/current/file.foo\", \"path/to/new/destination/for/file.foo\")\n",
    "\n",
    "# for num in range(56):\n",
    "#     best = POL+'100uW'+str(num)+'_'+BRAND+POL+TEMP+'_best_vals.npy'\n",
    "#     cov = POL+'100uW'+str(num)+'_'+BRAND+POL+TEMP+'_covar.npy'\n",
    "#     if best in files:\n",
    "#             shutil.move(os.getcwd()+'/'+best, file1+best)\n",
    "#     if cov in files:\n",
    "#             shutil.move(os.getcwd()+'/'+cov, file1+cov)"
   ]
  },
  {
   "cell_type": "code",
   "execution_count": null,
   "id": "ded881b8",
   "metadata": {},
   "outputs": [],
   "source": [
    "# BRANDS =[('PrecisionGlassBlowing', 'PGB'), ('Thorlabs', 'Thor')]\n",
    "# POLS = ['CIRC', 'LIN']\n",
    "# TEMPS = ['35','40','60']\n",
    "# pws = [20, 100, 200, 300, 400, 500, 600, 700, 800, 900, 1000, 1100, 1150, 1190, 1199]\n",
    "\n",
    "# for BRANDLONG, BRAND in BRANDS:\n",
    "#     for POL in POLS:\n",
    "#         for TEMP in TEMPS:\n",
    "#             if BRAND == 'PGB' and TEMP == '60':\n",
    "#                 pws[0] = 50\n",
    "#             # make new folder if not exists\n",
    "#             npydir = (\"/mnt/e/Google_Drive_Backup_E/Data/Magnetometery/OpticalPumping/\"\n",
    "#              +BRANDLONG+\"/\"+POL+\"POL/relaxation_time_\"+TEMP+\"C/npy_files\")\n",
    "#             if not os.path.exists(npydir):\n",
    "#                 os.mkdir(npydir)\n",
    "#             # get list of all files in cwd top folder only of specified extenstion\n",
    "#             ext = '.npy'\n",
    "#             cwd = os.getcwd()\n",
    "#             cwd_files = [ f for f in os.listdir( cwd ) if os.path.isfile(f) and f.endswith(ext) ]\n",
    "#             # move files from cwd to new folder\n",
    "#             for num, pw in zip(range(15), pws):\n",
    "#                 best_0 = POL+str(pws[0])+\"us\"+str(num)+'_'+BRAND+POL+TEMP+'_RT_'+str(pw)+'us_'+str(0)+'_best_vals.npy'\n",
    "#                 cov_0 = POL+str(pws[0])+\"us\"+str(num)+'_'+BRAND+POL+TEMP+'_RT_'+str(pw)+'us_'+str(0)+'_covar.npy'\n",
    "#                 best_1 = POL+str(pws[0])+\"us\"+str(num)+'_'+BRAND+POL+TEMP+'_RT_'+str(pw)+'us_'+str(1)+'_best_vals.npy'\n",
    "#                 cov_1 = POL+str(pws[0])+\"us\"+str(num)+'_'+BRAND+POL+TEMP+'_RT_'+str(pw)+'us_'+str(1)+'_covar.npy'\n",
    "#                 if best_0 in cwd_files:\n",
    "#                         shutil.move(os.getcwd()+'/'+best_0, npydir+'/'+best_0)\n",
    "#                 if cov_0 in cwd_files:\n",
    "#                         shutil.move(os.getcwd()+'/'+cov_0, npydir+'/'+cov_0)\n",
    "#                 if best_1 in cwd_files:\n",
    "#                         shutil.move(os.getcwd()+'/'+best_1, npydir+'/'+best_1)\n",
    "#                 if cov_1 in cwd_files:\n",
    "#                         shutil.move(os.getcwd()+'/'+cov_1, npydir+'/'+cov_1)"
   ]
  },
  {
   "cell_type": "markdown",
   "id": "a9f1abc8",
   "metadata": {},
   "source": [
    "### Timeit Function"
   ]
  },
  {
   "cell_type": "code",
   "execution_count": null,
   "id": "799e7245",
   "metadata": {},
   "outputs": [],
   "source": [
    "import timeit\n",
    "setup= \"\"\"import pandas as pd\n",
    "BRANDLONG = 'PrecisionGlassBlowing'\n",
    "BRAND = 'PGB'\n",
    "POL = 'CIRC'\n",
    "TEMP = '40' \n",
    "root = (\"/mnt/e/Google_Drive_Backup_E/Data/Magnetometery/OpticalPumping/\"\n",
    "        +f\"{BRANDLONG}/{POL}POL/relaxation_time_{TEMP}C_Phase_Locked\")\n",
    "filenum = 13\n",
    "file = (root+f\"/{POL}{str(200)}us{str(filenum)}.csv\")\n",
    "data = pd.read_csv(file)\n",
    "col = 'Time(s)'\n",
    "a = (1*(10**(-6)))-5*10**-6\n",
    "b = (1*(10**(-6)))\n",
    "c = ((1.2*(10**(-6))))\n",
    "d = (200*(10**(-6)))\n",
    "delta=0\n",
    "def df_parse(data, col, start, stop, delta): return data[(data[col] > start+delta) & (data[col] < stop+delta)]\"\"\"\n",
    "\n",
    "timeit.timeit('df_parse(data, col, a, d, delta)', setup, number=100)"
   ]
  },
  {
   "cell_type": "markdown",
   "id": "f1b71552",
   "metadata": {},
   "source": [
    "### Dataframe from dicitonary"
   ]
  },
  {
   "cell_type": "code",
   "execution_count": null,
   "id": "bc3824c9",
   "metadata": {},
   "outputs": [],
   "source": [
    "# importing pandas as pd \n",
    "import pandas as pd \n",
    "\n",
    "# dictionary of lists \n",
    "dict = {'name':[\"aparna\", \"pankaj\", \"sudhir\", \"Geeku\"], \n",
    "\t\t'degree': [\"MBA\", \"BCA\", \"M.Tech\", \"MBA\"], \n",
    "\t\t'score':[90, 40, 80, 98]} \n",
    "\n",
    "df = pd.DataFrame(dict) \n",
    "\n",
    "print(df) \n",
    "print(type(df['name'].tolist()))"
   ]
  }
 ],
 "metadata": {
  "kernelspec": {
   "display_name": "Python 3 (ipykernel)",
   "language": "python",
   "name": "python3"
  },
  "language_info": {
   "codemirror_mode": {
    "name": "ipython",
    "version": 3
   },
   "file_extension": ".py",
   "mimetype": "text/x-python",
   "name": "python",
   "nbconvert_exporter": "python",
   "pygments_lexer": "ipython3",
   "version": "3.8.10"
  }
 },
 "nbformat": 4,
 "nbformat_minor": 5
}
