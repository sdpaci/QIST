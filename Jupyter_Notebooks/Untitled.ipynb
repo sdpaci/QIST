{
 "cells": [
  {
   "cell_type": "code",
   "execution_count": 1,
   "id": "ee2349c1",
   "metadata": {},
   "outputs": [
    {
     "name": "stdout",
     "output_type": "stream",
     "text": [
      "Collecting qncp\n",
      "  Downloading QNCP-1.10.3.1-py3-none-any.whl (340 kB)\n",
      "\u001b[K     |████████████████████████████████| 340 kB 1.8 MB/s eta 0:00:01\n",
      "\u001b[?25hCollecting pyvis\n",
      "  Downloading pyvis-0.3.1.tar.gz (748 kB)\n",
      "\u001b[K     |████████████████████████████████| 748 kB 13.0 MB/s eta 0:00:01\n",
      "\u001b[?25hCollecting paramiko\n",
      "  Downloading paramiko-2.12.0-py2.py3-none-any.whl (213 kB)\n",
      "\u001b[K     |████████████████████████████████| 213 kB 29.9 MB/s eta 0:00:01\n",
      "\u001b[?25hCollecting python-vxi11\n",
      "  Downloading python-vxi11-0.9.tar.gz (19 kB)\n",
      "Collecting numpydoc\n",
      "  Downloading numpydoc-1.5.0-py3-none-any.whl (52 kB)\n",
      "\u001b[K     |████████████████████████████████| 52 kB 1.2 MB/s  eta 0:00:01\n",
      "\u001b[?25hRequirement already satisfied: matplotlib in /home/steven/.local/lib/python3.8/site-packages (from qncp) (3.4.3)\n",
      "Requirement already satisfied: scipy in /home/steven/.local/lib/python3.8/site-packages (from qncp) (1.8.1)\n",
      "Collecting scikit-learn\n",
      "  Downloading scikit_learn-1.1.3-cp38-cp38-manylinux_2_17_x86_64.manylinux2014_x86_64.whl (31.2 MB)\n",
      "\u001b[K     |████████████████████████████████| 31.2 MB 37.2 MB/s eta 0:00:01     |██████████▊                     | 10.5 MB 37.2 MB/s eta 0:00:01\n",
      "\u001b[?25hCollecting visa\n",
      "  Downloading visa-1.0.0-py2.py3-none-any.whl (25 kB)\n",
      "Collecting PyVISA-py\n",
      "  Downloading PyVISA_py-0.5.3-py3-none-any.whl (59 kB)\n",
      "\u001b[K     |████████████████████████████████| 59 kB 7.2 MB/s  eta 0:00:01\n",
      "\u001b[?25hRequirement already satisfied: numpy in /home/steven/.local/lib/python3.8/site-packages (from qncp) (1.20.1)\n",
      "Collecting PyVISA\n",
      "  Downloading PyVISA-1.12.0-py3-none-any.whl (175 kB)\n",
      "\u001b[K     |████████████████████████████████| 175 kB 36.3 MB/s eta 0:00:01\n",
      "\u001b[?25hCollecting regex\n",
      "  Downloading regex-2022.10.31-cp38-cp38-manylinux_2_17_x86_64.manylinux2014_x86_64.whl (772 kB)\n",
      "\u001b[K     |████████████████████████████████| 772 kB 35.7 MB/s eta 0:00:01\n",
      "\u001b[?25hCollecting scp\n",
      "  Downloading scp-0.14.4-py2.py3-none-any.whl (8.6 kB)\n",
      "Requirement already satisfied: ipython>=5.3.0 in /home/steven/.local/lib/python3.8/site-packages (from pyvis->qncp) (7.26.0)\n",
      "Requirement already satisfied: jinja2>=2.9.6 in /home/steven/.local/lib/python3.8/site-packages (from pyvis->qncp) (3.1.2)\n",
      "Collecting jsonpickle>=1.4.1\n",
      "  Downloading jsonpickle-2.2.0-py2.py3-none-any.whl (39 kB)\n",
      "Collecting networkx>=1.11\n",
      "  Downloading networkx-2.8.8-py3-none-any.whl (2.0 MB)\n",
      "\u001b[K     |████████████████████████████████| 2.0 MB 40.3 MB/s eta 0:00:01\n",
      "\u001b[?25hCollecting bcrypt>=3.1.3\n",
      "  Downloading bcrypt-4.0.1-cp36-abi3-manylinux_2_17_x86_64.manylinux2014_x86_64.whl (593 kB)\n",
      "\u001b[K     |████████████████████████████████| 593 kB 30.8 MB/s eta 0:00:01\n",
      "\u001b[?25hRequirement already satisfied: six in /usr/lib/python3/dist-packages (from paramiko->qncp) (1.14.0)\n",
      "Requirement already satisfied: pynacl>=1.0.1 in /usr/lib/python3/dist-packages (from paramiko->qncp) (1.3.0)\n",
      "Requirement already satisfied: cryptography>=2.5 in /usr/lib/python3/dist-packages (from paramiko->qncp) (2.8)\n",
      "Collecting sphinx>=4.2\n",
      "  Downloading sphinx-5.3.0-py3-none-any.whl (3.2 MB)\n",
      "\u001b[K     |████████████████████████████████| 3.2 MB 39.3 MB/s eta 0:00:01\n",
      "\u001b[?25hRequirement already satisfied: cycler>=0.10 in /home/steven/.local/lib/python3.8/site-packages (from matplotlib->qncp) (0.10.0)\n",
      "Requirement already satisfied: pyparsing>=2.2.1 in /home/steven/.local/lib/python3.8/site-packages (from matplotlib->qncp) (2.4.7)\n",
      "Requirement already satisfied: kiwisolver>=1.0.1 in /home/steven/.local/lib/python3.8/site-packages (from matplotlib->qncp) (1.3.1)\n",
      "Requirement already satisfied: pillow>=6.2.0 in /home/steven/.local/lib/python3.8/site-packages (from matplotlib->qncp) (8.3.1)\n",
      "Requirement already satisfied: python-dateutil>=2.7 in /home/steven/.local/lib/python3.8/site-packages (from matplotlib->qncp) (2.8.2)\n",
      "Collecting threadpoolctl>=2.0.0\n",
      "  Downloading threadpoolctl-3.1.0-py3-none-any.whl (14 kB)\n",
      "Collecting joblib>=1.0.0\n",
      "  Downloading joblib-1.2.0-py3-none-any.whl (297 kB)\n",
      "\u001b[K     |████████████████████████████████| 297 kB 34.4 MB/s eta 0:00:01\n",
      "\u001b[?25hRequirement already satisfied: requests>=2.20; python_version >= \"3.0\" in /usr/lib/python3/dist-packages (from visa->qncp) (2.22.0)\n",
      "Requirement already satisfied: typing-extensions in /home/steven/.local/lib/python3.8/site-packages (from PyVISA-py->qncp) (3.10.0.2)\n",
      "Requirement already satisfied: matplotlib-inline in /home/steven/.local/lib/python3.8/site-packages (from ipython>=5.3.0->pyvis->qncp) (0.1.2)\n",
      "Requirement already satisfied: prompt-toolkit!=3.0.0,!=3.0.1,<3.1.0,>=2.0.0 in /usr/lib/python3/dist-packages (from ipython>=5.3.0->pyvis->qncp) (2.0.10)\n",
      "Requirement already satisfied: setuptools>=18.5 in /usr/lib/python3/dist-packages (from ipython>=5.3.0->pyvis->qncp) (45.2.0)\n",
      "Requirement already satisfied: pexpect>4.3; sys_platform != \"win32\" in /usr/lib/python3/dist-packages (from ipython>=5.3.0->pyvis->qncp) (4.6.0)\n",
      "Requirement already satisfied: backcall in /usr/lib/python3/dist-packages (from ipython>=5.3.0->pyvis->qncp) (0.1.0)\n",
      "Requirement already satisfied: pygments in /home/steven/.local/lib/python3.8/site-packages (from ipython>=5.3.0->pyvis->qncp) (2.10.0)\n",
      "Requirement already satisfied: decorator in /usr/lib/python3/dist-packages (from ipython>=5.3.0->pyvis->qncp) (4.4.2)\n",
      "Requirement already satisfied: jedi>=0.16 in /home/steven/.local/lib/python3.8/site-packages (from ipython>=5.3.0->pyvis->qncp) (0.18.0)\n",
      "Requirement already satisfied: pickleshare in /usr/lib/python3/dist-packages (from ipython>=5.3.0->pyvis->qncp) (0.7.5)\n",
      "Requirement already satisfied: traitlets>=4.2 in /home/steven/.local/lib/python3.8/site-packages (from ipython>=5.3.0->pyvis->qncp) (5.3.0)\n",
      "Requirement already satisfied: MarkupSafe>=2.0 in /home/steven/.local/lib/python3.8/site-packages (from jinja2>=2.9.6->pyvis->qncp) (2.1.1)\n",
      "Collecting sphinxcontrib-devhelp\n",
      "  Downloading sphinxcontrib_devhelp-1.0.2-py2.py3-none-any.whl (84 kB)\n",
      "\u001b[K     |████████████████████████████████| 84 kB 3.9 MB/s  eta 0:00:01\n",
      "\u001b[?25hCollecting sphinxcontrib-applehelp\n",
      "  Downloading sphinxcontrib_applehelp-1.0.2-py2.py3-none-any.whl (121 kB)\n",
      "\u001b[K     |████████████████████████████████| 121 kB 29.3 MB/s eta 0:00:01\n",
      "\u001b[?25hCollecting sphinxcontrib-jsmath\n",
      "  Downloading sphinxcontrib_jsmath-1.0.1-py2.py3-none-any.whl (5.1 kB)\n",
      "Requirement already satisfied: babel>=2.9 in /home/steven/.local/lib/python3.8/site-packages (from sphinx>=4.2->numpydoc->qncp) (2.10.3)\n",
      "Collecting imagesize>=1.3\n",
      "  Downloading imagesize-1.4.1-py2.py3-none-any.whl (8.8 kB)\n",
      "Collecting sphinxcontrib-htmlhelp>=2.0.0\n",
      "  Downloading sphinxcontrib_htmlhelp-2.0.0-py2.py3-none-any.whl (100 kB)\n",
      "\u001b[K     |████████████████████████████████| 100 kB 10.0 MB/s ta 0:00:01     |██████████████████████▉         | 71 kB 40.2 MB/s eta 0:00:01\n",
      "\u001b[?25hRequirement already satisfied: packaging>=21.0 in /home/steven/.local/lib/python3.8/site-packages (from sphinx>=4.2->numpydoc->qncp) (21.0)\n",
      "Requirement already satisfied: importlib-metadata>=4.8; python_version < \"3.10\" in /home/steven/.local/lib/python3.8/site-packages (from sphinx>=4.2->numpydoc->qncp) (4.12.0)\n",
      "Collecting alabaster<0.8,>=0.7\n",
      "  Downloading alabaster-0.7.12-py2.py3-none-any.whl (14 kB)\n",
      "Collecting snowballstemmer>=2.0\n",
      "  Downloading snowballstemmer-2.2.0-py2.py3-none-any.whl (93 kB)\n",
      "\u001b[K     |████████████████████████████████| 93 kB 1.4 MB/s  eta 0:00:01\n",
      "\u001b[?25hCollecting sphinxcontrib-qthelp\n",
      "  Downloading sphinxcontrib_qthelp-1.0.3-py2.py3-none-any.whl (90 kB)\n",
      "\u001b[K     |████████████████████████████████| 90 kB 10.7 MB/s eta 0:00:01\n",
      "\u001b[?25hCollecting docutils<0.20,>=0.14\n",
      "  Downloading docutils-0.19-py3-none-any.whl (570 kB)\n",
      "\u001b[K     |████████████████████████████████| 570 kB 45.5 MB/s eta 0:00:01\n",
      "\u001b[?25hCollecting sphinxcontrib-serializinghtml>=1.1.5\n",
      "  Downloading sphinxcontrib_serializinghtml-1.1.5-py2.py3-none-any.whl (94 kB)\n",
      "\u001b[K     |████████████████████████████████| 94 kB 2.9 MB/s  eta 0:00:01\n",
      "\u001b[?25hRequirement already satisfied: parso<0.9.0,>=0.8.0 in /home/steven/.local/lib/python3.8/site-packages (from jedi>=0.16->ipython>=5.3.0->pyvis->qncp) (0.8.2)\n",
      "Requirement already satisfied: pytz>=2015.7 in /home/steven/.local/lib/python3.8/site-packages (from babel>=2.9->sphinx>=4.2->numpydoc->qncp) (2021.1)\n",
      "Requirement already satisfied: zipp>=0.5 in /usr/lib/python3/dist-packages (from importlib-metadata>=4.8; python_version < \"3.10\"->sphinx>=4.2->numpydoc->qncp) (1.0.0)\n",
      "Building wheels for collected packages: pyvis, python-vxi11\n"
     ]
    },
    {
     "name": "stdout",
     "output_type": "stream",
     "text": [
      "  Building wheel for pyvis (setup.py) ... \u001b[?25ldone\n",
      "\u001b[?25h  Created wheel for pyvis: filename=pyvis-0.3.1-py3-none-any.whl size=755828 sha256=14e0b82434f7fd392c2ec31ef4276050b24a2a2a8fbc131212da5cceec8fce09\n",
      "  Stored in directory: /home/steven/.cache/pip/wheels/a4/0c/61/8469ca276f96ab772c3acc7f47d71e9737cbdf6f446f017f48\n",
      "  Building wheel for python-vxi11 (setup.py) ... \u001b[?25ldone\n",
      "\u001b[?25h  Created wheel for python-vxi11: filename=python_vxi11-0.9-py3-none-any.whl size=18194 sha256=fb618c1ff9657867cdc3be6c323def8f9236346c55ed91728c9f5667dbb5a407\n",
      "  Stored in directory: /home/steven/.cache/pip/wheels/2b/07/9f/cde6227ea6f76e5de486e62e235472b8aaf50636e17f7ab3cb\n",
      "Successfully built pyvis python-vxi11\n",
      "\u001b[31mERROR: sphinx 5.3.0 has requirement Pygments>=2.12, but you'll have pygments 2.10.0 which is incompatible.\u001b[0m\n",
      "Installing collected packages: jsonpickle, networkx, pyvis, bcrypt, paramiko, python-vxi11, sphinxcontrib-devhelp, sphinxcontrib-applehelp, sphinxcontrib-jsmath, imagesize, sphinxcontrib-htmlhelp, alabaster, snowballstemmer, sphinxcontrib-qthelp, docutils, sphinxcontrib-serializinghtml, sphinx, numpydoc, threadpoolctl, joblib, scikit-learn, visa, PyVISA, PyVISA-py, regex, scp, qncp\n",
      "Successfully installed PyVISA-1.12.0 PyVISA-py-0.5.3 alabaster-0.7.12 bcrypt-4.0.1 docutils-0.19 imagesize-1.4.1 joblib-1.2.0 jsonpickle-2.2.0 networkx-2.8.8 numpydoc-1.5.0 paramiko-2.12.0 python-vxi11-0.9 pyvis-0.3.1 qncp-1.10.3.1 regex-2022.10.31 scikit-learn-1.1.3 scp-0.14.4 snowballstemmer-2.2.0 sphinx-5.3.0 sphinxcontrib-applehelp-1.0.2 sphinxcontrib-devhelp-1.0.2 sphinxcontrib-htmlhelp-2.0.0 sphinxcontrib-jsmath-1.0.1 sphinxcontrib-qthelp-1.0.3 sphinxcontrib-serializinghtml-1.1.5 threadpoolctl-3.1.0 visa-1.0.0\n",
      "Note: you may need to restart the kernel to use updated packages.\n"
     ]
    }
   ],
   "source": [
    "pip install qncp"
   ]
  },
  {
   "cell_type": "code",
   "execution_count": 2,
   "id": "0331e183",
   "metadata": {},
   "outputs": [],
   "source": [
    "from qncp import acq"
   ]
  },
  {
   "cell_type": "code",
   "execution_count": 3,
   "id": "adf61708",
   "metadata": {},
   "outputs": [],
   "source": [
    "osc1 = acq.Rigol_DMO5000('TCPIP::169.254.245.64::INSTR')"
   ]
  },
  {
   "cell_type": "code",
   "execution_count": 14,
   "id": "6ac0b550",
   "metadata": {},
   "outputs": [],
   "source": [
    "for i in range(4):\n",
    "    osc1.channel_state(i+1,1)"
   ]
  },
  {
   "cell_type": "code",
   "execution_count": 15,
   "id": "39e2f2c6",
   "metadata": {},
   "outputs": [],
   "source": [
    "t,v=osc1.screenshot(1)"
   ]
  },
  {
   "cell_type": "code",
   "execution_count": 16,
   "id": "d4d98466",
   "metadata": {},
   "outputs": [
    {
     "data": {
      "text/plain": [
       "[<matplotlib.lines.Line2D at 0x7f5b32df0100>]"
      ]
     },
     "execution_count": 16,
     "metadata": {},
     "output_type": "execute_result"
    },
    {
     "data": {
      "image/png": "[encoded data removed]",
      "text/plain": [
       "<Figure size 432x288 with 1 Axes>"
      ]
     },
     "metadata": {
      "needs_background": "light"
     },
     "output_type": "display_data"
    }
   ],
   "source": [
    "import matplotlib.pyplot as plt\n",
    "\n",
    "plt.plot(t,v)"
   ]
  },
  {
   "cell_type": "code",
   "execution_count": 18,
   "id": "ff4b0d72",
   "metadata": {},
   "outputs": [],
   "source": [
    "import numpy as np\n",
    "\n",
    "data = np.array([t,v])\n",
    "\n",
    "np.savetxt('example_remote_control_data',data)"
   ]
  },
  {
   "cell_type": "code",
   "execution_count": null,
   "id": "c1fdc6ec",
   "metadata": {},
   "outputs": [],
   "source": []
  }
 ],
 "metadata": {
  "kernelspec": {
   "display_name": "Python 3 (ipykernel)",
   "language": "python",
   "name": "python3"
  },
  "language_info": {
   "codemirror_mode": {
    "name": "ipython",
    "version": 3
   },
   "file_extension": ".py",
   "mimetype": "text/x-python",
   "name": "python",
   "nbconvert_exporter": "python",
   "pygments_lexer": "ipython3",
   "version": "3.8.10"
  }
 },
 "nbformat": 4,
 "nbformat_minor": 5
}
