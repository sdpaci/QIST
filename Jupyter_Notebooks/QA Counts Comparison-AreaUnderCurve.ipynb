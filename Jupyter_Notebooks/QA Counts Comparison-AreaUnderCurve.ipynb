{
 "cells": [
  {
   "cell_type": "code",
   "execution_count": 2,
   "metadata": {},
   "outputs": [
    {
     "name": "stdout",
     "output_type": "stream",
     "text": [
      "Tue Nov  5 13:52:14 2019\n"
     ]
    }
   ],
   "source": [
    "import numpy as np\n",
    "%matplotlib inline\n",
    "import matplotlib as mpl\n",
    "import matplotlib.pyplot as plt\n",
    "import matplotlib.mlab as mlab\n",
    "import glob\n",
    "import time\n",
    "plt.rcParams[\"figure.figsize\"] = (3,3)\n",
    "\n",
    "print (time.ctime())"
   ]
  },
  {
   "cell_type": "code",
   "execution_count": 3,
   "metadata": {},
   "outputs": [
    {
     "name": "stdout",
     "output_type": "stream",
     "text": [
      "/home/imaginglab/Data/TPX3/CHIP0/Test/GaAs1_EntangledSource_100s_W0028_H11-191025-145955-1_cent.csv Tue Nov  5 13:52:15 2019\n",
      "0 122.0 228.0 222825589760.0 300.0 300.0 1.0\n",
      "1 170.0 105.0 222826605824.0 375.0 525.0 2.0\n",
      "2 90.0 64.0 222827215104.0 275.0 550.0 2.0\n",
      "3 192.0 224.0 222827621120.0 300.0 300.0 1.0\n",
      "4 103.0 246.0 222829432064.0 100.0 100.0 1.0\n",
      "5 206.0 208.0 222829446400.0 325.0 325.0 1.0\n",
      "6 215.0 25.0 222830217728.0 250.0 400.0 2.0\n",
      "7 186.0 252.0 222830428416.0 275.0 275.0 1.0\n",
      "8 54.0 91.0 222831208960.0 475.0 475.0 1.0\n",
      "9 186.0 142.0 222831469056.0 300.0 300.0 1.0\n",
      "10 79.0 143.0 222831976704.0 175.0 175.0 1.0\n",
      "11 186.0 187.0 222833210624.0 250.0 250.0 1.0\n",
      "12 213.0 41.0 222833484288.0 450.0 625.0 2.0\n",
      "13 91.0 253.0 222833714432.0 325.0 500.0 2.0\n",
      "14 210.0 217.0 222834205440.0 625.0 1475.0 4.0\n",
      "15 193.0 162.0 222834692096.0 550.0 550.0 1.0\n",
      "16 36.0 41.0 222835122432.0 350.0 375.0 2.0\n",
      "17 81.0 12.0 222836115456.0 300.0 400.0 2.0\n",
      "18 116.0 147.0 222836154880.0 300.0 325.0 2.0\n",
      "19 72.0 117.0 222836192512.0 150.0 150.0 1.0\n",
      "33775736 Tue Nov  5 13:54:51 2019\n",
      "/home/imaginglab/Data/TPX3/CHIP0/Test/GaAs2_EntangledSource_100s_W0028_H11-191025-144057-1_cent.csv Tue Nov  5 13:54:51 2019\n",
      "0 4.0 86.0 227926588160.0 200.0 200.0 1.0\n",
      "1 187.0 165.0 227926764544.0 375.0 675.0 2.0\n",
      "2 118.0 170.0 227927213056.0 275.0 275.0 1.0\n",
      "3 78.0 201.0 227928940288.0 275.0 550.0 2.0\n",
      "4 157.0 182.0 227929276416.0 325.0 325.0 1.0\n",
      "5 115.0 17.0 227932378112.0 675.0 1200.0 3.0\n",
      "6 250.0 192.0 227932646400.0 350.0 350.0 1.0\n",
      "7 83.0 233.0 227932863232.0 25.0 25.0 1.0\n",
      "8 206.0 140.0 227933242368.0 175.0 175.0 1.0\n",
      "9 220.0 84.0 227933302272.0 325.0 325.0 1.0\n",
      "10 169.0 206.0 227934556160.0 600.0 600.0 1.0\n",
      "11 15.0 113.0 227935003904.0 150.0 150.0 1.0\n",
      "12 35.0 84.0 227935723264.0 275.0 450.0 2.0\n",
      "13 165.0 214.0 227937151232.0 675.0 1100.0 2.0\n",
      "14 150.0 28.0 227937703936.0 350.0 600.0 2.0\n",
      "15 254.0 134.0 227938024192.0 200.0 375.0 2.0\n",
      "16 6.0 103.0 227938069248.0 300.0 300.0 1.0\n",
      "17 172.0 171.0 227938180096.0 175.0 175.0 1.0\n",
      "18 48.0 10.0 227938197504.0 100.0 100.0 1.0\n",
      "19 0.0 45.0 227938263040.0 275.0 275.0 1.0\n",
      "35444473 Tue Nov  5 13:57:33 2019\n",
      "/home/imaginglab/Data/TPX3/CHIP0/Test/hiQEred_EntangledSource_100s_W0028_H11-191025-151752-1_cent.csv Tue Nov  5 13:57:33 2019\n",
      "0 1.0 127.0 222884836864.0 500.0 650.0 3.0\n",
      "1 122.0 115.0 222885627648.0 1150.0 2150.0 3.0\n",
      "2 83.0 85.0 222885991936.0 1775.0 3300.0 5.0\n",
      "3 91.0 88.0 222886015488.0 1925.0 2775.0 4.0\n",
      "4 196.0 200.0 222886997504.0 625.0 625.0 1.0\n",
      "5 238.0 137.0 222887213824.0 650.0 1825.0 4.0\n",
      "6 139.0 252.0 222889207296.0 175.0 175.0 1.0\n",
      "7 108.0 107.0 222891833600.0 825.0 1225.0 2.0\n",
      "8 192.0 182.0 222892944640.0 700.0 1125.0 2.0\n",
      "9 228.0 211.0 222893551360.0 450.0 625.0 2.0\n",
      "10 77.0 122.0 222899561728.0 1000.0 1575.0 3.0\n",
      "11 248.0 78.0 222899956736.0 350.0 600.0 3.0\n",
      "12 168.0 160.0 222899973120.0 925.0 4750.0 6.0\n",
      "13 61.0 125.0 222900041216.0 475.0 475.0 1.0\n",
      "14 185.0 103.0 222901566464.0 625.0 1100.0 2.0\n",
      "15 237.0 22.0 222903231232.0 50.0 50.0 1.0\n",
      "16 238.0 148.0 222903894272.0 725.0 1525.0 3.0\n",
      "17 49.0 179.0 222905044736.0 1575.0 3300.0 4.0\n",
      "18 76.0 122.0 222905330688.0 850.0 2200.0 4.0\n",
      "19 250.0 66.0 222905542912.0 400.0 400.0 1.0\n",
      "12533241 Tue Nov  5 13:58:30 2019\n"
     ]
    }
   ],
   "source": [
    "# read a data file, store all data in arrays\n",
    "\n",
    "file1 = \"/home/imaginglab/Data/TPX3/CHIP0/Test/GaAs1_EntangledSource_100s_W0028_H11-191025-145955-1_cent.csv\"\n",
    "\n",
    "print (file1, time.ctime())\n",
    "\n",
    "data1=np.loadtxt(file1, dtype= float, delimiter=\",\", usecols = (0,1,2,3,4,5))\n",
    "\n",
    "#print data\n",
    "y1   = data1[:, 0]\n",
    "x1   = data1[:, 1]\n",
    "t1   = data1[:, 2]\n",
    "a1   = data1[:, 3]\n",
    "A1   = data1[:, 4]\n",
    "n1   = data1[:, 5]\n",
    "\n",
    "for i in range(0,20):\n",
    "    print (i, x1[i],y1[i],t1[i],a1[i],A1[i],n1[i])\n",
    "    \n",
    "print (len(t1), time.ctime())\n",
    "\n",
    "\n",
    "\n",
    "file2 = \"/home/imaginglab/Data/TPX3/CHIP0/Test/GaAs2_EntangledSource_100s_W0028_H11-191025-144057-1_cent.csv\"\n",
    "\n",
    "print (file2, time.ctime())\n",
    "\n",
    "data2=np.loadtxt(file2, dtype= float, delimiter=\",\", usecols = (0,1,2,3,4,5))\n",
    "\n",
    "#print data\n",
    "y2   = data2[:, 0]\n",
    "x2   = data2[:, 1]\n",
    "t2   = data2[:, 2]\n",
    "a2   = data2[:, 3]\n",
    "A2   = data2[:, 4]\n",
    "n2   = data2[:, 5]\n",
    "\n",
    "for i in range(0,20):\n",
    "    print (i, x2[i],y2[i],t2[i],a2[i],A2[i],n2[i])\n",
    "    \n",
    "print (len(t2), time.ctime())\n",
    "\n",
    "\n",
    "\n",
    "file3 = \"/home/imaginglab/Data/TPX3/CHIP0/Test/hiQEred_EntangledSource_100s_W0028_H11-191025-151752-1_cent.csv\"\n",
    "\n",
    "print (file3, time.ctime())\n",
    "\n",
    "data3=np.loadtxt(file3, dtype= float, delimiter=\",\", usecols = (0,1,2,3,4,5))\n",
    "\n",
    "#print data\n",
    "y3   = data3[:, 0]\n",
    "x3   = data3[:, 1]\n",
    "t3   = data3[:, 2]\n",
    "a3   = data3[:, 3]\n",
    "A3   = data3[:, 4]\n",
    "n3   = data3[:, 5]\n",
    "\n",
    "for i in range(0,20):\n",
    "    print (i, x3[i],y3[i],t3[i],a3[i],A3[i],n3[i])\n",
    "    \n",
    "print (len(t3), time.ctime())"
   ]
  },
  {
   "cell_type": "code",
   "execution_count": 9,
   "metadata": {
    "scrolled": true
   },
   "outputs": [
    {
     "data": {
      "image/png": "[encoded data removed]",
      "text/plain": [
       "<Figure size 1440x432 with 1 Axes>"
      ]
     },
     "metadata": {
      "needs_background": "light"
     },
     "output_type": "display_data"
    }
   ],
   "source": [
    "fig, (ax0) = plt.subplots(ncols=1, figsize=(20, 6))\n",
    "\n",
    "ax0.hist(x1, bins = 256, range = (0, 256), alpha = 1, histtype = 'step', label = 'GaAs1')\n",
    "ax0.hist(x2, bins = 256, range = (0, 256), alpha = 1, histtype = 'step', label = 'GaAs2')\n",
    "ax0.hist(x3, bins = 256, range = (0, 256), alpha = 1, color = 'red', histtype = 'step', label = 'High QE Red')\n",
    "#plt.ylim(4000)\n",
    "plt.legend()\n",
    "\n",
    "plt.show()plt.title(\"x\", fontsize = 12) # change the title\n",
    "plt.xlabel('x, pixel',fontsize = 12)\n",
    "plt.ylabel('counts',fontsize = 12)"
   ]
  },
  {
   "cell_type": "code",
   "execution_count": 10,
   "metadata": {},
   "outputs": [
    {
     "name": "stdout",
     "output_type": "stream",
     "text": [
      "3398360 3039532 27337843 Mon Nov  4 14:18:28 2019\n",
      "3118814 3237553 29088105 Mon Nov  4 14:18:52 2019\n",
      "1474626 1294031 9764583 Mon Nov  4 14:19:00 2019\n"
     ]
    }
   ],
   "source": [
    "#finds points in each projection histo peak\n",
    "\n",
    "\n",
    "#Empty peak arrays\n",
    "x1p1 = []; x1p2 = []; x2p1 = []; x2p2 = []; x3p1 = []; x3p2 = []\n",
    "\n",
    "#Empty baseline arrays\n",
    "x1b = []; x2b = []; x3b = []\n",
    "\n",
    "#Sorts points in x1 peaks\n",
    "#Get range #s by above histos\n",
    "\n",
    "for i in range(len(x1)-1):\n",
    "    if (68 <= x1[i] <= 83):\n",
    "        x1p1.append(x1[i])\n",
    "        \n",
    "    elif (144 <= x1[i] <= 159):\n",
    "        x1p2.append(x1[i])\n",
    "    \n",
    "    else:\n",
    "        x1b.append(x1[i])\n",
    "        \n",
    "print (len(x1p1), len(x1p2), len(x1b), time.ctime())\n",
    "\n",
    "#Sorts points in x2 peaks\n",
    "#Get range #s by above histos\n",
    "\n",
    "for i in range(len(x2)-1):\n",
    "    if (68 <= x2[i] <= 83):\n",
    "        x2p1.append(x2[i])\n",
    "        \n",
    "    elif (140 <= x2[i] <= 155):\n",
    "        x2p2.append(x2[i])\n",
    "    \n",
    "    else:\n",
    "        x2b.append(x2[i])\n",
    "        \n",
    "print (len(x2p1), len(x2p2), len(x2b), time.ctime())\n",
    "\n",
    "\n",
    "\n",
    "#Sorts points in x3 peaks\n",
    "#Get range #s by above histos\n",
    "\n",
    "for i in range(len(x3)-1):\n",
    "    if (72 <= x3[i] <= 87):\n",
    "        x3p1.append(x3[i])\n",
    "        \n",
    "    elif (144 <= x3[i] <= 159):\n",
    "        x3p2.append(x3[i])\n",
    "    \n",
    "    else:\n",
    "        x3b.append(x3[i])\n",
    "        \n",
    "print (len(x3p1), len(x3p2), len(x3b), time.ctime())"
   ]
  },
  {
   "cell_type": "code",
   "execution_count": 11,
   "metadata": {
    "scrolled": true
   },
   "outputs": [
    {
     "data": {
      "image/png": "[encoded data removed]",
      "text/plain": [
       "<Figure size 1440x432 with 1 Axes>"
      ]
     },
     "metadata": {
      "needs_background": "light"
     },
     "output_type": "display_data"
    }
   ],
   "source": [
    "fig, (ax0) = plt.subplots(ncols=1, figsize=(20, 6))\n",
    "\n",
    "#ax0.hist(x1p1, bins = 256, range = (0, 256), alpha = 1, histtype = 'step', label = 'GaAs1')\n",
    "#ax0.hist(x1p2, bins = 256, range = (0, 256), alpha = 1, histtype = 'step', label = 'GaAs1')\n",
    "#ax0.hist(x2p1, bins = 256, range = (0, 256), alpha = 1, histtype = 'step', label = 'GaAs2')\n",
    "#ax0.hist(x2p2, bins = 256, range = (0, 256), alpha = 1, histtype = 'step', label = 'GaAs2')\n",
    "#ax0.hist(x3p1, bins = 256, range = (0, 256), alpha = 1, color = 'red', histtype = 'step', label = 'High QE Red')\n",
    "#ax0.hist(x3p2, bins = 256, range = (0, 256), alpha = 1, color = 'red', histtype = 'step', label = 'High QE Red')\n",
    "ax0.hist(x1b, bins = 256, range = (0, 256), alpha = 1, histtype = 'step', label = 'GaAs1')\n",
    "ax0.hist(x2b, bins = 256, range = (0, 256), alpha = 1, histtype = 'step', label = 'GaAs2')\n",
    "ax0.hist(x3b, bins = 256, range = (0, 256), alpha = 1, color = 'red', histtype = 'step', label = 'High QE Red')\n",
    "#plt.ylim(4000)\n",
    "plt.legend()\n",
    "plt.title(\"x\", fontsize = 12) # change the title\n",
    "plt.xlabel('x, pixel',fontsize = 12)\n",
    "plt.ylabel('counts',fontsize = 12)\n",
    "plt.show()"
   ]
  },
  {
   "cell_type": "code",
   "execution_count": 12,
   "metadata": {
    "scrolled": true
   },
   "outputs": [
    {
     "name": "stdout",
     "output_type": "stream",
     "text": [
      "68\n",
      "69\n",
      "70\n",
      "71\n",
      "72\n",
      "73\n",
      "74\n",
      "75\n",
      "76\n",
      "77\n",
      "78\n",
      "79\n",
      "80\n",
      "81\n",
      "82\n",
      "83\n",
      "144\n",
      "145\n",
      "146\n",
      "147\n",
      "148\n",
      "149\n",
      "150\n",
      "151\n",
      "152\n",
      "153\n",
      "154\n",
      "155\n",
      "156\n",
      "157\n",
      "158\n",
      "159\n",
      "224 224\n",
      "68\n",
      "69\n",
      "70\n",
      "71\n",
      "72\n",
      "73\n",
      "74\n",
      "75\n",
      "76\n",
      "77\n",
      "78\n",
      "79\n",
      "80\n",
      "81\n",
      "82\n",
      "83\n",
      "140\n",
      "141\n",
      "142\n",
      "143\n",
      "144\n",
      "145\n",
      "146\n",
      "147\n",
      "148\n",
      "149\n",
      "150\n",
      "151\n",
      "152\n",
      "153\n",
      "154\n",
      "155\n",
      "224 224\n",
      "72\n",
      "73\n",
      "74\n",
      "75\n",
      "76\n",
      "77\n",
      "78\n",
      "79\n",
      "80\n",
      "81\n",
      "82\n",
      "83\n",
      "84\n",
      "85\n",
      "86\n",
      "87\n",
      "144\n",
      "145\n",
      "146\n",
      "147\n",
      "148\n",
      "149\n",
      "150\n",
      "151\n",
      "152\n",
      "153\n",
      "154\n",
      "155\n",
      "156\n",
      "157\n",
      "158\n",
      "159\n",
      "224 224\n"
     ]
    },
    {
     "data": {
      "image/png": "[encoded data removed]",
      "text/plain": [
       "<Figure size 216x216 with 1 Axes>"
      ]
     },
     "metadata": {
      "needs_background": "light"
     },
     "output_type": "display_data"
    }
   ],
   "source": [
    "#Defines array for number of entries in each bin for baseline\n",
    "\n",
    "#returns as a tuple\n",
    "x1bY = plt.hist(x1b, bins = 256, range = (0, 256))\n",
    "\n",
    "#converts tuple to list\n",
    "x1bYList = list(x1bY[0])\n",
    "x1bYI = [int(i) for i in x1bYList]\n",
    "\n",
    "#Creates lists of background as X and Y points\n",
    "X1BX = []; X1BY = []\n",
    "for i in range(256):\n",
    "    if x1bYI[i] != 0:\n",
    "        X1BY.append(x1bYI[i])\n",
    "        X1BX.append(i)\n",
    "    else:\n",
    "        print(i)\n",
    "\n",
    "print (len(X1BX), len(X1BY))\n",
    "\n",
    "\n",
    "#returns as a tuple\n",
    "x2bY = plt.hist(x2b, bins = 256, range = (0, 256))\n",
    "\n",
    "#converts tuple to list\n",
    "x2bYList = list(x2bY[0])\n",
    "x2bYI = [int(i) for i in x2bYList]\n",
    "\n",
    "#Creates lists of background as X and Y points\n",
    "X2BX = []; X2BY = []\n",
    "for i in range(256):\n",
    "    if x2bYI[i] != 0:\n",
    "        X2BY.append(x2bYI[i])\n",
    "        X2BX.append(i)\n",
    "    else:\n",
    "        print(i)\n",
    "\n",
    "print (len(X2BX), len(X2BY))\n",
    "\n",
    "\n",
    "\n",
    "#returns as a tuple\n",
    "x3bY = plt.hist(x3b, bins = 256, range = (0, 256))\n",
    "\n",
    "#converts tuple to list\n",
    "x3bYList = list(x3bY[0])\n",
    "x3bYI = [int(i) for i in x3bYList]\n",
    "\n",
    "#Creates lists of background as X and Y points\n",
    "X3BX = []; X3BY = []\n",
    "for i in range(256):\n",
    "    if x3bYI[i] != 0:\n",
    "        X3BY.append(x3bYI[i])\n",
    "        X3BX.append(i)\n",
    "        \n",
    "    else:\n",
    "        print(i)\n",
    "\n",
    "print (len(X3BX), len(X3BY))"
   ]
  },
  {
   "cell_type": "code",
   "execution_count": 19,
   "metadata": {},
   "outputs": [
    {
     "name": "stdout",
     "output_type": "stream",
     "text": [
      "[ 6.06386366e-09 -4.26373113e-06  9.97612338e-04 -6.82476755e-02\n",
      " -1.09006149e+01  1.96421478e+03  7.93981231e+04]\n",
      "[ 6.09225826e-09 -5.39982059e-06  1.48062393e-03 -1.39543009e-01\n",
      " -1.56487444e+00  1.21826816e+03  6.72414832e+04]\n",
      "[ 2.25110915e-09 -1.59908545e-06  3.14239628e-04 -4.93594394e-04\n",
      " -4.74340967e+00  3.19139176e+02  4.10621263e+04]\n"
     ]
    }
   ],
   "source": [
    "#Finds poly of best fit for arrays based on entire array\n",
    "\n",
    "bf1 = np.polyfit(X1BX, X1BY, 6)\n",
    "print(bf1)\n",
    "\n",
    "bf2 = np.polyfit(X2BX, X2BY, 6)\n",
    "print(bf2)\n",
    "\n",
    "bf3 = np.polyfit(X3BX, X3BY, 6)\n",
    "print(bf3)\n",
    "\n",
    "\n",
    "bfx1 = np.linspace(0, 256, 10000)\n",
    "def f(bfx1): return bf1[0]*bfx1**6 + bf1[1]*bfx1**5 + bf1[2]*bfx1**4 + bf1[3]*bfx1**3 + bf1[4]*bfx1**2 + bf1[5]*bfx1 + bf1[6]\n",
    "\n",
    "bfx2 = np.linspace(0, 256, 10000)\n",
    "def g(bfx2): return bf2[0]*bfx2**6 + bf2[1]*bfx2**5 + bf2[2]*bfx2**4 + bf2[3]*bfx2**3 + bf2[4]*bfx2**2 + bf2[5]*bfx2 + bf2[6]\n",
    "\n",
    "bfx3 = np.linspace(0, 256, 10000)\n",
    "def h(bfx3): return bf3[0]*bfx3**6 + bf3[1]*bfx3**5 + bf3[2]*bfx3**4 + bf3[3]*bfx3**3 + bf3[4]*bfx3**2 + bf3[5]*bfx3 + bf3[6]"
   ]
  },
  {
   "cell_type": "code",
   "execution_count": 20,
   "metadata": {
    "scrolled": true
   },
   "outputs": [
    {
     "data": {
      "image/png": "[encoded data removed]",
      "text/plain": [
       "<Figure size 576x576 with 1 Axes>"
      ]
     },
     "metadata": {
      "needs_background": "light"
     },
     "output_type": "display_data"
    }
   ],
   "source": [
    "#check lines of best fit vs. data\n",
    "\n",
    "plt.rcParams[\"figure.figsize\"] = (8,8)\n",
    "\n",
    "\n",
    "plt.scatter(X1BX, X1BY, label = 'GaAs1')\n",
    "plt.plot(bfx1, f(bfx1))\n",
    "plt.fill_between(bfx1, f(bfx1), where = [(bfx1 >= 68) and (bfx1 <= 83) for bfx1 in bfx1], alpha = 0.3, color = 'blue')\n",
    "plt.fill_between(bfx1, f(bfx1), where = [(bfx1 >= 144) and (bfx1 <= 159) for bfx1 in bfx1], alpha = 0.3, color = 'blue')\n",
    "\n",
    "plt.scatter(X2BX, X2BY, label = 'GaAs2', color = 'orange')\n",
    "plt.plot(bfx2, g(bfx2), color = 'orange')\n",
    "plt.fill_between(bfx2, g(bfx2), where = [(bfx2 >= 68) and (bfx2 <= 83) for bfx2 in bfx2], alpha = 0.3, color = 'orange')\n",
    "plt.fill_between(bfx2, g(bfx2), where = [(bfx2 >= 140) and (bfx2 <= 156) for bfx2 in bfx2], alpha = 0.3, color = 'orange')\n",
    "\n",
    "\n",
    "plt.scatter(X3BX, X3BY, label = 'High QE Red', color = 'red')\n",
    "plt.plot(bfx3, h(bfx3), color = 'red')\n",
    "plt.fill_between(bfx3, h(bfx3), where = [(bfx3 >= 72) and (bfx3 <= 87) for bfx3 in bfx3], color = 'red', alpha = 0.3)\n",
    "plt.fill_between(bfx3, h(bfx3), where = [(bfx3 >= 144) and (bfx3 <= 159) for bfx3 in bfx3], color = 'red', alpha = 0.3)\n",
    "\n",
    "plt.legend()\n",
    "plt.show()"
   ]
  },
  {
   "cell_type": "code",
   "execution_count": 1,
   "metadata": {},
   "outputs": [
    {
     "ename": "NameError",
     "evalue": "name 'np' is not defined",
     "output_type": "error",
     "traceback": [
      "\u001b[0;31m---------------------------------------------------------------------------\u001b[0m",
      "\u001b[0;31mNameError\u001b[0m                                 Traceback (most recent call last)",
      "\u001b[0;32m<ipython-input-1-1dfcd86975b2>\u001b[0m in \u001b[0;36m<module>\u001b[0;34m\u001b[0m\n\u001b[0;32m----> 1\u001b[0;31m \u001b[0mx1Y\u001b[0m\u001b[0;34m,\u001b[0m \u001b[0medges\u001b[0m \u001b[0;34m=\u001b[0m \u001b[0mnp\u001b[0m\u001b[0;34m.\u001b[0m\u001b[0mhistogram\u001b[0m\u001b[0;34m(\u001b[0m\u001b[0mx1\u001b[0m\u001b[0;34m,\u001b[0m \u001b[0mbins\u001b[0m \u001b[0;34m=\u001b[0m \u001b[0;36m64\u001b[0m\u001b[0;34m,\u001b[0m \u001b[0mrange\u001b[0m \u001b[0;34m=\u001b[0m \u001b[0;34m(\u001b[0m\u001b[0;36m0\u001b[0m\u001b[0;34m,\u001b[0m \u001b[0;36m256\u001b[0m\u001b[0;34m)\u001b[0m\u001b[0;34m)\u001b[0m\u001b[0;34m\u001b[0m\u001b[0;34m\u001b[0m\u001b[0m\n\u001b[0m\u001b[1;32m      2\u001b[0m \u001b[0mx1X\u001b[0m \u001b[0;34m=\u001b[0m \u001b[0;34m(\u001b[0m\u001b[0medges\u001b[0m\u001b[0;34m[\u001b[0m\u001b[0;34m:\u001b[0m\u001b[0;34m-\u001b[0m\u001b[0;36m1\u001b[0m\u001b[0;34m]\u001b[0m\u001b[0;34m+\u001b[0m\u001b[0medges\u001b[0m\u001b[0;34m[\u001b[0m\u001b[0;36m1\u001b[0m\u001b[0;34m:\u001b[0m\u001b[0;34m]\u001b[0m\u001b[0;34m)\u001b[0m\u001b[0;34m/\u001b[0m\u001b[0;36m2\u001b[0m\u001b[0;34m\u001b[0m\u001b[0;34m\u001b[0m\u001b[0m\n\u001b[1;32m      3\u001b[0m \u001b[0;34m\u001b[0m\u001b[0m\n\u001b[1;32m      4\u001b[0m \u001b[0;31m# x1YList = list(x1Y[0])\u001b[0m\u001b[0;34m\u001b[0m\u001b[0;34m\u001b[0m\u001b[0;34m\u001b[0m\u001b[0m\n\u001b[1;32m      5\u001b[0m \u001b[0;31m# x1YI = [int(i) for i in x1YList]\u001b[0m\u001b[0;34m\u001b[0m\u001b[0;34m\u001b[0m\u001b[0;34m\u001b[0m\u001b[0m\n",
      "\u001b[0;31mNameError\u001b[0m: name 'np' is not defined"
     ]
    }
   ],
   "source": [
    "x1Y, edges = np.histogram(x1, bins = 64, range = (0, 256))\n",
    "x1X = (edges[:-1]+edges[1:])/2\n",
    "\n",
    "# x1YList = list(x1Y[0])\n",
    "# x1YI = [int(i) for i in x1YList]\n",
    "\n",
    "# #Creates lists of background as X and Y points\n",
    "# X1X = []; X1Y = []\n",
    "# for i in range(256):\n",
    "#     if x1YI[i] != 0:\n",
    "#         X1Y.append(x1YI[i])\n",
    "#         X1X.append(i)\n",
    "#     else:\n",
    "#         print(i)\n",
    "\n",
    "# print (len(X1X), len(X1Y), f(1))\n",
    "\n",
    "plt.plot(x1X, 4 * f(x1X), label = 'Background Signal')\n",
    "plt.plot(x1X, x1Y, label = 'GaAs1 Signal')\n",
    "plt.legend()\n",
    "plt.show()\n",
    "\n",
    "plt.plot(x1X, x1Y - 4*f(x1X))\n",
    "plt.show()"
   ]
  },
  {
   "cell_type": "code",
   "execution_count": 21,
   "metadata": {},
   "outputs": [
    {
     "name": "stdout",
     "output_type": "stream",
     "text": [
      "2386857.37241896\n",
      "2219273.85797910\n"
     ]
    }
   ],
   "source": [
    "import sympy as sy\n",
    "\n",
    "bf1x = sy.Symbol('bf1x')\n",
    "\n",
    "area_Under_GaAs1_1 = sy.integrate(f(bf1x), (bf1x, 68, 83))\n",
    "print (area_Under_GaAs1_1)\n",
    "\n",
    "area_Under_GaAs1_2 = sy.integrate(f(bf1x), (bf1x, 144, 159))\n",
    "print (area_Under_GaAs1_2)"
   ]
  },
  {
   "cell_type": "code",
   "execution_count": 22,
   "metadata": {},
   "outputs": [
    {
     "name": "stdout",
     "output_type": "stream",
     "text": [
      "1892763.32049922\n",
      "2274878.42513375\n"
     ]
    }
   ],
   "source": [
    "bf2x = sy.Symbol('bf2x')\n",
    "\n",
    "area_Under_GaAs2_1 = sy.integrate(g(bf2x), (bf2x, 68, 83))\n",
    "print (area_Under_GaAs2_1)\n",
    "\n",
    "area_Under_GaAs2_2 = sy.integrate(g(bf2x), (bf2x, 140, 155))\n",
    "print (area_Under_GaAs2_2)"
   ]
  },
  {
   "cell_type": "code",
   "execution_count": 23,
   "metadata": {},
   "outputs": [
    {
     "name": "stdout",
     "output_type": "stream",
     "text": [
      "663834.557771444\n",
      "659551.446567148\n"
     ]
    }
   ],
   "source": [
    "bfx3 = sy.Symbol('bfx3')\n",
    "\n",
    "area_Under_Red_1 = sy.integrate(h(bfx3), (bfx3, 72, 87))\n",
    "print (area_Under_Red_1)\n",
    "\n",
    "area_Under_Red_2 = sy.integrate(h(bfx3), (bfx3, 144, 159))\n",
    "print (area_Under_Red_2)"
   ]
  },
  {
   "cell_type": "code",
   "execution_count": 24,
   "metadata": {},
   "outputs": [
    {
     "name": "stdout",
     "output_type": "stream",
     "text": [
      "Area under GaAs1 first peak, subtracting background is 1011502.62758104\n",
      "Area under GaAs1 second peak, subtracting background is 820258.142020904\n",
      "Area under GaAs2 first peak, subtracting background is 1226050.67950078\n",
      "Area under GaAs2 second peak, subtracting background is 962674.574866250\n",
      "Area under High QE Red first peak, subtracting background is 810791.442228556\n",
      "Area under High QE Red second peak, subtracting background is 634479.553432852\n"
     ]
    }
   ],
   "source": [
    "Peak_Area_GaAs1_1 = len(x1p1) - area_Under_GaAs1_1\n",
    "print ('Area under GaAs1 first peak, subtracting background is', Peak_Area_GaAs1_1)\n",
    "Peak_Area_GaAs1_2 = len(x1p2) - area_Under_GaAs1_2\n",
    "print ('Area under GaAs1 second peak, subtracting background is', Peak_Area_GaAs1_2)\n",
    "\n",
    "\n",
    "Peak_Area_GaAs2_1 = len(x2p1) - area_Under_GaAs2_1\n",
    "print ('Area under GaAs2 first peak, subtracting background is', Peak_Area_GaAs2_1)\n",
    "Peak_Area_GaAs2_2 = len(x2p2) - area_Under_GaAs2_2\n",
    "print ('Area under GaAs2 second peak, subtracting background is', Peak_Area_GaAs2_2)\n",
    "\n",
    "\n",
    "Peak_Area_Red_1 = len(x3p1) - area_Under_Red_1\n",
    "print ('Area under High QE Red first peak, subtracting background is', Peak_Area_Red_1)\n",
    "Peak_Area_Red_2 = len(x3p2) - area_Under_Red_2\n",
    "print ('Area under High QE Red second peak, subtracting background is', Peak_Area_Red_2)\n"
   ]
  },
  {
   "cell_type": "code",
   "execution_count": 105,
   "metadata": {},
   "outputs": [
    {
     "name": "stdout",
     "output_type": "stream",
     "text": [
      "Area under GaAs1 first peak, subtracting background is 185630.0\n",
      "Area under GaAs1 second peak, subtracting background is 138051.0\n",
      "Area under GaAs2 first peak, subtracting background is 192216.5\n",
      "Area under GaAs1 second peak, subtracting background is 165275.5\n",
      "Area under High QE Red first peak, subtracting background is 102261.0\n",
      "Area under High QE Red second peak, subtracting background is 81878.0\n"
     ]
    }
   ],
   "source": [
    "area1bk1 = ((x1bYI[69] + x1bYI[79])/2) * 10\n",
    "Peak1p1 = len(x1p1) - area1bk1\n",
    "print ('Area under GaAs1 first peak, subtracting background is', Peak1p1)\n",
    "area1bk2 = ((x1bYI[146] + x1bYI[154])/2) * 8\n",
    "Peak1p2 = len(x1p2) - area1bk2\n",
    "print ('Area under GaAs1 second peak, subtracting background is', Peak1p2)\n",
    "\n",
    "\n",
    "\n",
    "area2bk1 = ((x2bYI[68] + x2bYI[79])/2) * 11\n",
    "Peak2p1 = len(x2p1) - area2bk1\n",
    "print ('Area under GaAs2 first peak, subtracting background is', Peak2p1)\n",
    "area2bk2 = ((x2bYI[142] + x2bYI[151])/2) * 9\n",
    "Peak2p2 = len(x2p2) - area2bk2\n",
    "print ('Area under GaAs1 second peak, subtracting background is', Peak2p2)\n",
    "\n",
    "\n",
    "area3bk1 = ((x3bYI[71] + x3bYI[81])/2) * 10\n",
    "Peak3p1 = len(x3p1) - area3bk1\n",
    "print ('Area under High QE Red first peak, subtracting background is', Peak3p1)\n",
    "area3bk2 = ((x3bYI[142] + x3bYI[151])/2) * 9\n",
    "Peak3p2 = len(x3p2) - area3bk2\n",
    "print ('Area under High QE Red second peak, subtracting background is', Peak3p2)"
   ]
  },
  {
   "cell_type": "code",
   "execution_count": null,
   "metadata": {},
   "outputs": [],
   "source": []
  }
 ],
 "metadata": {
  "kernelspec": {
   "display_name": "Python 3",
   "language": "python",
   "name": "python3"
  },
  "language_info": {
   "codemirror_mode": {
    "name": "ipython",
    "version": 3
   },
   "file_extension": ".py",
   "mimetype": "text/x-python",
   "name": "python",
   "nbconvert_exporter": "python",
   "pygments_lexer": "ipython3",
   "version": "3.6.5"
  }
 },
 "nbformat": 4,
 "nbformat_minor": 2
}
