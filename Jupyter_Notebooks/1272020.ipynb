{
 "cells": [
  {
   "cell_type": "code",
   "execution_count": 1,
   "metadata": {},
   "outputs": [
    {
     "name": "stdout",
     "output_type": "stream",
     "text": [
      "Wed Dec  9 11:08:49 2020\n"
     ]
    }
   ],
   "source": [
    "import numpy as np\n",
    "%matplotlib inline\n",
    "import matplotlib as mpl\n",
    "import matplotlib.pyplot as plt\n",
    "import matplotlib.mlab as mlab\n",
    "import glob\n",
    "import time\n",
    "import pandas as pd\n",
    "from statistics import mean\n",
    "\n",
    "# plt.rcParams[\"figure.figsize\"] = (3,3)\n",
    "print (time.ctime())"
   ]
  },
  {
   "cell_type": "code",
   "execution_count": 2,
   "metadata": {
    "scrolled": true
   },
   "outputs": [
    {
     "name": "stdout",
     "output_type": "stream",
     "text": [
      "E:/AOD1272020/AOD_10s_singlepoint_1kHzPL_2.4V_20ns_Gate10us_delay9us_W0028_H07-201207-161424-1.csv Wed Dec  9 11:08:49 2020\n",
      "   #Col  #Row          #ToA  #ToT[arb]  #ToTtotal[arb]  Unnamed: 5\n",
      "0   226    31  156544786688        525         4668250         NaN\n",
      "1   226    32  156544786432        525         4668250         NaN\n",
      "2   226    33  156544786432        525         4668250         NaN\n",
      "3   225    33  156544786432        575         4668250         NaN\n",
      "4   227    33  156544786432        550         4668250         NaN\n",
      "Wed Dec  9 11:10:33 2020\n",
      "E:/AOD1272020/AOD_10s_singlepoint_1kHzPL_2.4V_20ns_Gate10us_delay9us_W0028_H07-201207-161424-1_cent.csv Wed Dec  9 11:10:33 2020\n",
      "   #Col  #Row          #ToA  #ToT[arb]  #ToTtotal[arb]  #Centroid     #cent_X  \\\n",
      "0   226    31  156544786688        525         4668250       4319  226.916816   \n",
      "1   110    26  156544787712      14150          174625        310  110.513744   \n",
      "2   108   155  156544791808       3025            4800          5  108.755208   \n",
      "3   227   153  156544794624        375             725          2  227.982759   \n",
      "4    60    15  156544795392        300             525          2   60.500000   \n",
      "\n",
      "      #cent_Y  #centStdev_X  #centStdev_Y  #centStdev_ToA  Unnamed: 11  \n",
      "0   31.812087     15.839431     16.509893           39497          NaN  \n",
      "1   26.355691      2.856655      2.883835            9388          NaN  \n",
      "2  155.401042      0.663383      0.599999            1160          NaN  \n",
      "3  153.500000      0.706897      0.500000             128          NaN  \n",
      "4   15.928571      0.500000      0.703490             256          NaN  \n",
      "Wed Dec  9 11:10:37 2020\n"
     ]
    }
   ],
   "source": [
    "# file1 = \"/home/imaginglab/Data/TPX3/CHIP0/Test/8x8Grid_visEq_1s_W0028_F03-200228-095644-1.csv\"\n",
    "file1 =\"E:/AOD1272020/AOD_10s_singlepoint_1kHzPL_2.4V_20ns_Gate10us_delay9us_W0028_H07-201207-161424-1.csv\"\n",
    "print (file1, time.ctime())\n",
    "\n",
    "# data1=np.loadtxt(file1, dtype= float, delimiter=\",\", usecols = (0,1,2,3,4))\n",
    "# data1 = np.genfromtxt(file1, delimiter=\",\", skip_header=True)[:, 1:]\n",
    "data1 = pd.read_csv(file1)\n",
    "print(pd.read_csv(file1, nrows=5))\n",
    "print(time.ctime())\n",
    "# #print data\n",
    "# y1   = data1.iloc[:, 0]\n",
    "# x1   = data1.iloc[:, 1]\n",
    "# t1   = data1.iloc[:, 2]\n",
    "# a1   = data1.iloc[:, 3]\n",
    "# A1   = data1.iloc[:, 4]\n",
    "\n",
    "# for i in range(0,20):\n",
    "#     print (i, x1[i],y1[i],t1[i],a1[i],A1[i])\n",
    "    \n",
    "# print (len(t1), time.ctime())\n",
    "\n",
    "# file2 = \"/home/imaginglab/Data/TPX3/CHIP0/Test/8x8Grid_SettingsEq_1s_W0028_F03-200228-100050-1.csv\"\n",
    "file2 = \"E:/AOD1272020/AOD_10s_singlepoint_1kHzPL_2.4V_20ns_Gate10us_delay9us_W0028_H07-201207-161424-1_cent.csv\"\n",
    "print (file2, time.ctime())\n",
    "\n",
    "# data2=np.loadtxt(file2, dtype= float, delimiter=\",\", usecols = (0,1,2,3,4))\n",
    "# data2 = np.genfromtxt(file2, delimiter=\",\", skip_header=True)[:, 1:]\n",
    "data2 =pd.read_csv(file2)\n",
    "print(pd.read_csv(file2, nrows=5))\n",
    "print(time.ctime())\n",
    "# #print data\n",
    "# y2  = data2.iloc[:, 0]\n",
    "# x2  = data2.iloc[:, 1]\n",
    "# t2  = data2.iloc[:, 2]\n",
    "# a2  = data2.iloc[:, 3]\n",
    "# A2  = data2.iloc[:, 4]\n",
    "\n",
    "# for i in range(0,20):\n",
    "#     print (i, x2[i],y2[i],t2[i],a2[i],A2[i])\n",
    "    \n",
    "# print (len(t2), time.ctime())"
   ]
  },
  {
   "cell_type": "code",
   "execution_count": 3,
   "metadata": {},
   "outputs": [
    {
     "data": {
      "text/plain": [
       "((141670626, 6), (59425913, 12))"
      ]
     },
     "execution_count": 3,
     "metadata": {},
     "output_type": "execute_result"
    }
   ],
   "source": [
    "data1.shape, data2.shape"
   ]
  },
  {
   "cell_type": "code",
   "execution_count": 4,
   "metadata": {},
   "outputs": [],
   "source": [
    "# # file1 =\"/QuantumRouter/AOD8212020/AOM_64_10kHz_ext_W0028_H07-140105-025044-1.csv\"\n",
    "# GridX1min = 146\n",
    "# GridX1max = 191\n",
    "# GridY1min = 82\n",
    "# GridY1max = 127\n",
    "\n",
    "# # file1 =\"/QuantumRouter/AOD9282020/AOD_10s_blnkext_10kHz_10Dty_3.3Vpp_W0057_H07-140212-034958-1_cent.csv\"\n",
    "# GridX1min = 30\n",
    "# GridX1max = 75\n",
    "# GridY1min = 185\n",
    "# GridY1max = 230\n",
    "\n",
    "# file1 =\"/QuantumRouter/AOD1012020/AOD_10s_blnkint_PL_1kHz_10ns_W0028_H07-201001-114131-1_cent.csv\"\n",
    "GridX1min = 118\n",
    "GridX1max = 161\n",
    "GridY1min = 108\n",
    "GridY1max = 151\n",
    "\n",
    "# # file2 = \"/QuantumRouter/AOD8212020/AOM_64n_10kHz_ext_W0028_H07-140105-025447-1.csv\"\n",
    "# GridX2min = 62\n",
    "# GridX2max = 107\n",
    "# GridY2min = 161\n",
    "# GridY2max = 206\n",
    "\n",
    "# # file2 = \"/QuantumRouter/AOD9282020/AOD_10s_blnkext_10kHz_10Dty_3.3Vpp_W0057_H07-140212-034958-1.csv\"\n",
    "# GridX2min = 30\n",
    "# GridX2max = 75\n",
    "# GridY2min = 185\n",
    "# GridY2max = 230\n",
    "\n",
    "# file1 =\"/QuantumRouter/AOD1012020/AOD_10s_blnkint_PL_1kHz_10ns_W0028_H07-201001-114131-1.csv\"\n",
    "GridX2min = 118\n",
    "GridX2max = 161\n",
    "GridY2min = 108\n",
    "GridY2max = 151"
   ]
  },
  {
   "cell_type": "code",
   "execution_count": 5,
   "metadata": {},
   "outputs": [
    {
     "data": {
      "text/plain": [
       "161"
      ]
     },
     "execution_count": 5,
     "metadata": {},
     "output_type": "execute_result"
    }
   ],
   "source": [
    "119+42"
   ]
  },
  {
   "cell_type": "code",
   "execution_count": 6,
   "metadata": {},
   "outputs": [],
   "source": [
    "#Define column segregations\n",
    "\n",
    "C1min = GridX1min; C1max = C1min + 5;\n",
    "C2min = C1max + 1; C2max = C2min + 4;\n",
    "C3min = C2max + 1; C3max = C3min + 4;\n",
    "C4min = C3max + 1; C4max = C4min + 5;\n",
    "C5min = C4max + 1; C5max = C5min + 5;\n",
    "C6min = C5max + 1; C6max = C6min + 5;\n",
    "C7min = C6max + 1; C7max = C7min + 5;\n",
    "C8min = C7max + 1; C8max = C8min + 5;\n",
    "C7min = C7min-3; C7max = C7max-3;\n",
    "C8min = C8min-3; C8max = C8max-3; \n",
    "\n",
    "#Defime Row segregations\n",
    "\n",
    "R1min = GridY1min; R1max = R1min + 5;\n",
    "R2min = R1max + 1; R2max = R2min + 4;\n",
    "R3min = R2max + 1; R3max = R3min + 4;\n",
    "R4min = R3max + 1; R4max = R4min + 5;\n",
    "R5min = R4max + 1; R5max = R5min + 5;\n",
    "R6min = R5max + 1; R6max = R6min + 5;\n",
    "R7min = R6max + 1; R7max = R7min + 4;\n",
    "R8min = R7max + 1; R8max = R8min + 5;\n",
    "R5min = R5min-3; R5max = R5max-3;\n",
    "R6min = R6min-3; R6max = R6max-3;\n",
    "R7min = R7min-3; R7max = R7max-3;\n",
    "R8min = R8min-3; R8max = R8max-3;"
   ]
  },
  {
   "cell_type": "code",
   "execution_count": 7,
   "metadata": {
    "scrolled": true
   },
   "outputs": [
    {
     "name": "stdout",
     "output_type": "stream",
     "text": [
      "(658197, 6) <class 'numpy.int64'> <class 'numpy.float64'> Thu Nov 19 17:15:45 2020\n",
      "      #Col   #Row          #ToA  #ToT[arb]  #ToTtotal[arb]  Unnamed: 5\n",
      "5616   147  143.0  1.561858e+11    12225.0         29900.0         NaN\n",
      "5617   146  143.0  1.561858e+11    10575.0         29900.0         NaN\n",
      "5618   147  142.0  1.561858e+11     3825.0         29900.0         NaN\n",
      "(407024, 12) <class 'numpy.int64'> <class 'numpy.int64'> Thu Nov 19 17:15:46 2020\n",
      "   #Col  #Row          #ToA  #ToT[arb]  #ToTtotal[arb]  #Centroid     #cent_X  \\\n",
      "4   147   143  156185773824      12225           29900          4  147.036789   \n",
      "5   141   148  156185774336       9150           22525          4  141.836293   \n",
      "6   141   143  156185774336      10125           20425          3  141.815789   \n",
      "\n",
      "      #cent_Y  #centStdev_X  #centStdev_Y  #centStdev_ToA  Unnamed: 11  \n",
      "4  143.262542      0.706149      0.656561           16342          NaN  \n",
      "5  148.925083      0.687895      0.703127           14470          NaN  \n",
      "6  143.311506      0.682691      0.634795            8957          NaN  \n"
     ]
    }
   ],
   "source": [
    "def min_max(data, grid_x_min, grid_x_max, grid_y_min, grid_y_max):\n",
    "    \"\"\"Returns DataFrame filtering values less than min or greater than max for two columns\"\"\"\n",
    "    x_cond = (data['#Row'] <grid_x_min) | (data['#Row'] > grid_x_max)\n",
    "    y_cond = (data['#Col'] < grid_y_min) | (data['#Col'] > grid_y_max)\n",
    "    new_data = data.drop(data[x_cond | y_cond].index)\n",
    "    return new_data\n",
    "\n",
    "grid1_df = min_max(data1, GridX1min, GridX1max, GridY1min, GridY1max)\n",
    "\n",
    "print(grid1_df.shape, type(grid1_df.iloc[0,0]), type(grid1_df.iloc[1,1]), time.ctime())\n",
    "print(grid1_df.iloc[:3])\n",
    "\n",
    "grid2_df = min_max(data2, GridX2min, GridX2max, GridY2min, GridY2max)\n",
    "\n",
    "print(grid2_df.shape, type(grid2_df.iloc[0,0]), type(grid2_df.iloc[1,1]), time.ctime())\n",
    "print(grid2_df.iloc[:3])"
   ]
  },
  {
   "cell_type": "code",
   "execution_count": 3,
   "metadata": {
    "scrolled": false
   },
   "outputs": [
    {
     "data": {
      "image/png": "[encoded data removed]",
      "text/plain": [
       "<Figure size 684x288 with 4 Axes>"
      ]
     },
     "metadata": {
      "needs_background": "light"
     },
     "output_type": "display_data"
    }
   ],
   "source": [
    "#File 1 grid\n",
    "fig, (ax0, ax1) = plt.subplots(ncols=2, figsize=(9.5, 4))\n",
    "\n",
    "h = ax0.hist2d(data1['#Row'], data1['#Col'], bins = 256, range = [(0, 256), (0, 256)])\n",
    "fig.colorbar(h[3], ax = ax0)\n",
    "\n",
    "h = ax1.hist2d(data1['#Row'], data1['#Col'], bins = 256, range = [(0, 256), (0, 256)], norm=mpl.colors.LogNorm())\n",
    "fig.colorbar(h[3], ax = ax1)\n",
    "fig.tight_layout()\n",
    "plt.show()"
   ]
  },
  {
   "cell_type": "code",
   "execution_count": 9,
   "metadata": {},
   "outputs": [
    {
     "data": {
      "text/plain": [
       "43"
      ]
     },
     "execution_count": 9,
     "metadata": {},
     "output_type": "execute_result"
    }
   ],
   "source": [
    "0+(GridX1max-GridX1min)"
   ]
  },
  {
   "cell_type": "code",
   "execution_count": null,
   "metadata": {},
   "outputs": [],
   "source": []
  },
  {
   "cell_type": "code",
   "execution_count": null,
   "metadata": {},
   "outputs": [],
   "source": []
  }
 ],
 "metadata": {
  "kernelspec": {
   "display_name": "Python 3",
   "language": "python",
   "name": "python3"
  },
  "language_info": {
   "codemirror_mode": {
    "name": "ipython",
    "version": 3
   },
   "file_extension": ".py",
   "mimetype": "text/x-python",
   "name": "python",
   "nbconvert_exporter": "python",
   "pygments_lexer": "ipython3",
   "version": "3.6.5"
  }
 },
 "nbformat": 4,
 "nbformat_minor": 4
}
